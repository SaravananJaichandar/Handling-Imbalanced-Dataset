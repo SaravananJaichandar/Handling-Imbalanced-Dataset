{
 "cells": [
  {
   "cell_type": "code",
   "execution_count": 8,
   "metadata": {},
   "outputs": [
    {
     "name": "stdout",
     "output_type": "stream",
     "text": [
      "    Mcg   Gvh   Lip  Chg   Aac  Alm1  Alm2     Class\n",
      "0  0.49  0.29  0.48  0.5  0.56  0.24  0.35  positive\n",
      "1  0.07  0.40  0.48  0.5  0.54  0.35  0.44  positive\n",
      "2  0.56  0.40  0.48  0.5  0.49  0.37  0.46  positive\n",
      "3  0.59  0.49  0.48  0.5  0.52  0.45  0.36  positive\n",
      "4  0.23  0.32  0.48  0.5  0.55  0.25  0.35  positive\n"
     ]
    }
   ],
   "source": [
    "import pandas as pd\n",
    "import numpy as np\n",
    "import matplotlib.pyplot as plt\n",
    "\n",
    "file = pd.read_csv(\"ecoli.csv\",sep=',')\n",
    "print(file.head())"
   ]
  },
  {
   "cell_type": "code",
   "execution_count": 9,
   "metadata": {},
   "outputs": [
    {
     "data": {
      "text/plain": [
       "count          220\n",
       "unique           2\n",
       "top       positive\n",
       "freq           143\n",
       "Name: Class, dtype: object"
      ]
     },
     "execution_count": 9,
     "metadata": {},
     "output_type": "execute_result"
    }
   ],
   "source": [
    "file['Class'].describe()"
   ]
  },
  {
   "cell_type": "code",
   "execution_count": 10,
   "metadata": {},
   "outputs": [
    {
     "data": {
      "text/html": [
       "<div>\n",
       "<style>\n",
       "    .dataframe thead tr:only-child th {\n",
       "        text-align: right;\n",
       "    }\n",
       "\n",
       "    .dataframe thead th {\n",
       "        text-align: left;\n",
       "    }\n",
       "\n",
       "    .dataframe tbody tr th {\n",
       "        vertical-align: top;\n",
       "    }\n",
       "</style>\n",
       "<table border=\"1\" class=\"dataframe\">\n",
       "  <thead>\n",
       "    <tr style=\"text-align: right;\">\n",
       "      <th></th>\n",
       "      <th>Mcg</th>\n",
       "      <th>Gvh</th>\n",
       "      <th>Lip</th>\n",
       "      <th>Chg</th>\n",
       "      <th>Aac</th>\n",
       "      <th>Alm1</th>\n",
       "      <th>Alm2</th>\n",
       "    </tr>\n",
       "    <tr>\n",
       "      <th>Class</th>\n",
       "      <th></th>\n",
       "      <th></th>\n",
       "      <th></th>\n",
       "      <th></th>\n",
       "      <th></th>\n",
       "      <th></th>\n",
       "      <th></th>\n",
       "    </tr>\n",
       "  </thead>\n",
       "  <tbody>\n",
       "    <tr>\n",
       "      <th>negative</th>\n",
       "      <td>77</td>\n",
       "      <td>77</td>\n",
       "      <td>77</td>\n",
       "      <td>77</td>\n",
       "      <td>77</td>\n",
       "      <td>77</td>\n",
       "      <td>77</td>\n",
       "    </tr>\n",
       "    <tr>\n",
       "      <th>positive</th>\n",
       "      <td>143</td>\n",
       "      <td>143</td>\n",
       "      <td>143</td>\n",
       "      <td>143</td>\n",
       "      <td>143</td>\n",
       "      <td>143</td>\n",
       "      <td>143</td>\n",
       "    </tr>\n",
       "  </tbody>\n",
       "</table>\n",
       "</div>"
      ],
      "text/plain": [
       "          Mcg  Gvh  Lip  Chg  Aac  Alm1  Alm2\n",
       "Class                                        \n",
       "negative   77   77   77   77   77    77    77\n",
       "positive  143  143  143  143  143   143   143"
      ]
     },
     "execution_count": 10,
     "metadata": {},
     "output_type": "execute_result"
    }
   ],
   "source": [
    "f = file.groupby(\"Class\")\n",
    "f.count()"
   ]
  },
  {
   "cell_type": "code",
   "execution_count": 11,
   "metadata": {},
   "outputs": [
    {
     "name": "stdout",
     "output_type": "stream",
     "text": [
      "0    1\n",
      "1    1\n",
      "2    1\n",
      "3    1\n",
      "4    1\n",
      "Name: Class, dtype: int64\n"
     ]
    }
   ],
   "source": [
    "file['Class'] = file['Class'].map({'positive': 1, 'negative': 0})\n",
    "print(file['Class'].head())"
   ]
  },
  {
   "cell_type": "code",
   "execution_count": 21,
   "metadata": {},
   "outputs": [
    {
     "data": {
      "text/html": [
       "<div>\n",
       "<style>\n",
       "    .dataframe thead tr:only-child th {\n",
       "        text-align: right;\n",
       "    }\n",
       "\n",
       "    .dataframe thead th {\n",
       "        text-align: left;\n",
       "    }\n",
       "\n",
       "    .dataframe tbody tr th {\n",
       "        vertical-align: top;\n",
       "    }\n",
       "</style>\n",
       "<table border=\"1\" class=\"dataframe\">\n",
       "  <thead>\n",
       "    <tr style=\"text-align: right;\">\n",
       "      <th></th>\n",
       "      <th>Mcg</th>\n",
       "      <th>Gvh</th>\n",
       "      <th>Lip</th>\n",
       "      <th>Chg</th>\n",
       "      <th>Aac</th>\n",
       "      <th>Alm1</th>\n",
       "      <th>Alm2</th>\n",
       "    </tr>\n",
       "    <tr>\n",
       "      <th>Class</th>\n",
       "      <th></th>\n",
       "      <th></th>\n",
       "      <th></th>\n",
       "      <th></th>\n",
       "      <th></th>\n",
       "      <th></th>\n",
       "      <th></th>\n",
       "    </tr>\n",
       "  </thead>\n",
       "  <tbody>\n",
       "    <tr>\n",
       "      <th>0</th>\n",
       "      <td>77</td>\n",
       "      <td>77</td>\n",
       "      <td>77</td>\n",
       "      <td>77</td>\n",
       "      <td>77</td>\n",
       "      <td>77</td>\n",
       "      <td>77</td>\n",
       "    </tr>\n",
       "    <tr>\n",
       "      <th>1</th>\n",
       "      <td>143</td>\n",
       "      <td>143</td>\n",
       "      <td>143</td>\n",
       "      <td>143</td>\n",
       "      <td>143</td>\n",
       "      <td>143</td>\n",
       "      <td>143</td>\n",
       "    </tr>\n",
       "  </tbody>\n",
       "</table>\n",
       "</div>"
      ],
      "text/plain": [
       "       Mcg  Gvh  Lip  Chg  Aac  Alm1  Alm2\n",
       "Class                                     \n",
       "0       77   77   77   77   77    77    77\n",
       "1      143  143  143  143  143   143   143"
      ]
     },
     "execution_count": 21,
     "metadata": {},
     "output_type": "execute_result"
    }
   ],
   "source": [
    "f = file.groupby(\"Class\")\n",
    "f.count()"
   ]
  },
  {
   "cell_type": "code",
   "execution_count": 13,
   "metadata": {},
   "outputs": [
    {
     "name": "stdout",
     "output_type": "stream",
     "text": [
      "      Mcg   Gvh   Lip  Chg   Aac  Alm1  Alm2  Class\n",
      "143  0.06  0.61  0.48  0.5  0.49  0.92  0.37      0\n",
      "144  0.44  0.52  0.48  0.5  0.43  0.47  0.54      0\n",
      "145  0.63  0.47  0.48  0.5  0.51  0.82  0.84      0\n",
      "146  0.23  0.48  0.48  0.5  0.59  0.88  0.89      0\n",
      "147  0.34  0.49  0.48  0.5  0.58  0.85  0.80      0\n",
      "    Mcg   Gvh   Lip  Chg   Aac  Alm1  Alm2  Class\n",
      "0  0.49  0.29  0.48  0.5  0.56  0.24  0.35      1\n",
      "1  0.07  0.40  0.48  0.5  0.54  0.35  0.44      1\n",
      "2  0.56  0.40  0.48  0.5  0.49  0.37  0.46      1\n",
      "3  0.59  0.49  0.48  0.5  0.52  0.45  0.36      1\n",
      "4  0.23  0.32  0.48  0.5  0.55  0.25  0.35      1\n"
     ]
    }
   ],
   "source": [
    "majority_class= file[file.Class==0]\n",
    "minority_class= file[file.Class==1]\n",
    "print(majority_class.head())\n",
    "print(minority_class.head())"
   ]
  },
  {
   "cell_type": "code",
   "execution_count": 42,
   "metadata": {},
   "outputs": [
    {
     "name": "stdout",
     "output_type": "stream",
     "text": [
      "(176, 7)\n",
      "(44, 7)\n",
      "1    115\n",
      "0     61\n",
      "Name: Class, dtype: int64\n",
      "1    28\n",
      "0    16\n",
      "Name: Class, dtype: int64\n"
     ]
    }
   ],
   "source": [
    "from sklearn.cross_validation import train_test_split\n",
    "train, test = train_test_split(file,test_size=0.2)\n",
    "features_train=train[['Mcg','Gvh','Lip','Chg','Aac','Alm1','Alm2']]\n",
    "features_test = test[['Mcg','Gvh','Lip','Chg','Aac','Alm1','Alm2']]\n",
    "labels_train = train.Class\n",
    "labels_test = test.Class\n",
    "print(features_train.shape)\n",
    "print(features_test.shape)\n",
    "print(labels_train.value_counts())\n",
    "print(labels_test.value_counts())"
   ]
  },
  {
   "cell_type": "code",
   "execution_count": 53,
   "metadata": {},
   "outputs": [
    {
     "name": "stdout",
     "output_type": "stream",
     "text": [
      "[1 1 1 1 1 1 1 1 1 1 1 0 1 0 1 0 0 0 1 0 0 1 1 0 1 0 1 0 1 1 1 1 0 1 1 1 1\n",
      " 0 0 1 0 0 1 0]\n",
      "Accuracy: 1.0\n",
      "ROC AUC Curve: 1.0\n"
     ]
    }
   ],
   "source": [
    "from sklearn.ensemble import RandomForestClassifier\n",
    "from sklearn.metrics import accuracy_score,roc_auc_score\n",
    "clf = RandomForestClassifier(n_estimators=100, random_state=7).fit(features_train,labels_train)\n",
    "prediction = clf.predict(features_test)\n",
    "print(prediction)\n",
    "print(\"Accuracy:\",clf.score(features_test,labels_test))\n",
    "print(\"ROC AUC Curve:\",roc_auc_score(prediction,labels_test))"
   ]
  },
  {
   "cell_type": "code",
   "execution_count": 54,
   "metadata": {},
   "outputs": [
    {
     "name": "stdout",
     "output_type": "stream",
     "text": [
      "[1 1 1 1 1 1 1 1 1 1 1 0 1 0 1 0 0 0 1 0 1 1 1 0 1 1 1 0 1 1 1 1 0 1 1 1 1\n",
      " 1 0 1 0 0 1 0]\n",
      "Accuracy: 0.931818181818\n",
      "ROC AUC Curve: 0.951612903226\n"
     ]
    }
   ],
   "source": [
    "from sklearn.linear_model import LogisticRegression\n",
    "clf = LogisticRegression().fit(features_train,labels_train)\n",
    "prediction = clf.predict(features_test)\n",
    "print(prediction)\n",
    "print(\"Accuracy:\",clf.score(features_test,labels_test))\n",
    "print(\"ROC AUC Curve:\",roc_auc_score(prediction,labels_test))"
   ]
  },
  {
   "cell_type": "code",
   "execution_count": 28,
   "metadata": {},
   "outputs": [
    {
     "name": "stdout",
     "output_type": "stream",
     "text": [
      "[1 1 0 1 0 0 0 1 0 0 0 1 0 0 0 1 0 1 1 1 1 1 1 1 0 1 0 1 1 1 0 1 1 1 1 1 1\n",
      " 0 0 1 0 1 1 1]\n",
      "Accuracy: 0.977272727273\n",
      "ROC AUC Curve: 0.981481481481\n"
     ]
    }
   ],
   "source": [
    "from sklearn import svm\n",
    "clf = svm.SVC(kernel='linear',class_weight='balanced',probability=True)\n",
    "training = clf.fit(features_train,labels_train)\n",
    "predictions = clf.predict(features_test)\n",
    "print(predictions)\n",
    "print(\"Accuracy:\",clf.score(features_test,labels_test))\n",
    "print(\"ROC AUC Curve:\",roc_auc_score(prediction,labels_test))"
   ]
  },
  {
   "cell_type": "code",
   "execution_count": 29,
   "metadata": {},
   "outputs": [
    {
     "name": "stdout",
     "output_type": "stream",
     "text": [
      "[1 1 0 1 0 0 0 1 0 0 0 1 0 0 0 1 0 1 1 1 1 1 1 1 0 1 0 1 1 1 0 1 1 1 1 1 1\n",
      " 0 0 1 0 1 1 1]\n",
      "Accuracy: 0.977272727273\n",
      "ROC AUC Curve: 0.981481481481\n"
     ]
    }
   ],
   "source": [
    "from sklearn import svm\n",
    "clf = svm.SVC(kernel='rbf',class_weight='balanced',probability=True)\n",
    "training = clf.fit(features_train,labels_train)\n",
    "predictions = clf.predict(features_test)\n",
    "print(predictions)\n",
    "print(\"Accuracy:\",clf.score(features_test,labels_test))\n",
    "print(\"ROC AUC Curve:\",roc_auc_score(prediction,labels_test))"
   ]
  },
  {
   "cell_type": "code",
   "execution_count": 31,
   "metadata": {},
   "outputs": [
    {
     "name": "stdout",
     "output_type": "stream",
     "text": [
      "[1 1 0 1 0 0 0 1 0 0 0 1 0 0 0 1 0 1 1 1 1 1 1 1 0 1 1 1 1 1 0 1 1 1 1 1 1\n",
      " 0 0 1 0 1 1 1]\n",
      "Accuracy: 0.954545454545\n",
      "ROC AUC Curve: 0.981481481481\n"
     ]
    }
   ],
   "source": [
    "from sklearn import svm\n",
    "clf = svm.SVC(kernel='poly',class_weight='balanced',probability=True)\n",
    "training = clf.fit(features_train,labels_train)\n",
    "predictions = clf.predict(features_test)\n",
    "print(predictions)\n",
    "print(\"Accuracy:\",clf.score(features_test,labels_test))\n",
    "print(\"ROC AUC Curve:\",roc_auc_score(prediction,labels_test))"
   ]
  },
  {
   "cell_type": "code",
   "execution_count": 36,
   "metadata": {},
   "outputs": [
    {
     "name": "stdout",
     "output_type": "stream",
     "text": [
      "[1 1 0 1 0 0 0 1 0 0 0 1 0 0 0 1 0 1 1 1 1 1 1 1 0 1 0 1 1 1 0 1 1 1 1 1 1\n",
      " 0 0 1 0 1 1 1]\n",
      "Accuracy: 0.977272727273\n",
      "ROC AUC Curve: 0.981481481481\n"
     ]
    }
   ],
   "source": [
    "from sklearn import tree\n",
    "clf = tree.DecisionTreeClassifier(min_samples_split=2)\n",
    "training = clf.fit(features_train,labels_train)\n",
    "predictions = clf.predict(features_test)\n",
    "print(predictions)\n",
    "print(\"Accuracy:\",clf.score(features_test,labels_test))\n",
    "print(\"ROC AUC Curve:\",roc_auc_score(prediction,labels_test))"
   ]
  },
  {
   "cell_type": "code",
   "execution_count": 55,
   "metadata": {},
   "outputs": [
    {
     "name": "stdout",
     "output_type": "stream",
     "text": [
      "before sampling: Counter({1: 115, 0: 61})\n",
      "after sampling: Counter({0: 115, 1: 115})\n",
      "(230, 7)\n"
     ]
    }
   ],
   "source": [
    "from collections import Counter\n",
    "from imblearn.over_sampling import SMOTE\n",
    "X_resampled, y_resampled = SMOTE(kind='borderline1').fit_sample(features_train, labels_train)\n",
    "print(\"before sampling:\",format(Counter(labels_train)))\n",
    "print(\"after sampling:\",format(Counter(y_resampled)))\n",
    "print(X_resampled.shape)"
   ]
  },
  {
   "cell_type": "code",
   "execution_count": 51,
   "metadata": {},
   "outputs": [
    {
     "name": "stdout",
     "output_type": "stream",
     "text": [
      "[1 1 1 1 1 1 1 1 1 1 1 0 1 0 1 0 0 0 1 0 0 1 1 0 1 0 1 0 1 1 1 1 0 1 1 1 1\n",
      " 0 0 1 0 0 1 0]\n",
      "Accuracy: 1.0\n",
      "ROC AUC Curve: 1.0\n",
      "[0 1]\n"
     ]
    }
   ],
   "source": [
    "from sklearn.ensemble import RandomForestClassifier\n",
    "from sklearn.metrics import accuracy_score,roc_auc_score\n",
    "clf = RandomForestClassifier(n_estimators=100, random_state=7).fit(X_resampled, y_resampled)\n",
    "prediction = clf.predict(features_test)\n",
    "print(prediction)\n",
    "print(\"Accuracy:\",clf.score(features_test,labels_test))\n",
    "print(\"ROC AUC Curve:\",roc_auc_score(prediction,labels_test))\n",
    "print(np.unique(prediction))"
   ]
  },
  {
   "cell_type": "code",
   "execution_count": 48,
   "metadata": {},
   "outputs": [
    {
     "name": "stdout",
     "output_type": "stream",
     "text": [
      "[1 1 1 1 1 1 1 1 1 1 1 0 1 0 1 0 0 0 1 0 0 1 1 0 1 0 1 0 1 1 1 1 0 1 1 1 1\n",
      " 0 0 1 0 0 1 0]\n",
      "Accuracy: 1.0\n",
      "ROC AUC Curve: 1.0\n"
     ]
    }
   ],
   "source": [
    "from sklearn.linear_model import LogisticRegression\n",
    "clf = LogisticRegression().fit(X_resampled, y_resampled)\n",
    "prediction = clf.predict(features_test)\n",
    "print(prediction)\n",
    "print(\"Accuracy:\",clf.score(features_test,labels_test))\n",
    "print(\"ROC AUC Curve:\",roc_auc_score(prediction,labels_test))"
   ]
  },
  {
   "cell_type": "code",
   "execution_count": 58,
   "metadata": {},
   "outputs": [
    {
     "name": "stdout",
     "output_type": "stream",
     "text": [
      "before sampling: Counter({1: 115, 0: 61})\n",
      "after sampling: Counter({0: 61, 1: 61})\n",
      "(122, 7)\n"
     ]
    }
   ],
   "source": [
    "from collections import Counter\n",
    "from imblearn.under_sampling import NearMiss\n",
    "rus = NearMiss(random_state=42)\n",
    "X_resampled, y_resampled = rus.fit_sample(features_train, labels_train)\n",
    "print(\"before sampling:\",format(Counter(labels_train)))\n",
    "print(\"after sampling:\",format(Counter(y_resampled)))\n",
    "print(X_resampled.shape)"
   ]
  },
  {
   "cell_type": "code",
   "execution_count": 59,
   "metadata": {},
   "outputs": [
    {
     "name": "stdout",
     "output_type": "stream",
     "text": [
      "[1 1 1 1 1 1 1 1 1 1 1 0 1 0 1 0 0 0 1 0 0 1 1 0 1 0 1 0 1 1 1 1 0 1 1 1 1\n",
      " 0 0 1 0 0 1 0]\n",
      "Accuracy: 1.0\n",
      "ROC AUC Curve: 1.0\n"
     ]
    }
   ],
   "source": [
    "from sklearn.linear_model import LogisticRegression\n",
    "clf = LogisticRegression().fit(X_resampled, y_resampled)\n",
    "prediction = clf.predict(features_test)\n",
    "print(prediction)\n",
    "print(\"Accuracy:\",clf.score(features_test,labels_test))\n",
    "print(\"ROC AUC Curve:\",roc_auc_score(prediction,labels_test))"
   ]
  },
  {
   "cell_type": "code",
   "execution_count": null,
   "metadata": {
    "collapsed": true
   },
   "outputs": [],
   "source": []
  }
 ],
 "metadata": {
  "kernelspec": {
   "display_name": "Python 3",
   "language": "python",
   "name": "python3"
  },
  "language_info": {
   "codemirror_mode": {
    "name": "ipython",
    "version": 3
   },
   "file_extension": ".py",
   "mimetype": "text/x-python",
   "name": "python",
   "nbconvert_exporter": "python",
   "pygments_lexer": "ipython3",
   "version": "3.6.1"
  }
 },
 "nbformat": 4,
 "nbformat_minor": 2
}
